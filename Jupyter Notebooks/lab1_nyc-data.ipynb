{
 "cells": [
  {
   "cell_type": "markdown",
   "metadata": {},
   "source": [
    "### Import the libraries we need"
   ]
  },
  {
   "cell_type": "code",
   "execution_count": 1,
   "metadata": {
    "ExecuteTime": {
     "end_time": "2020-07-15T16:29:19.871683Z",
     "start_time": "2020-07-15T16:29:16.039920Z"
    }
   },
   "outputs": [],
   "source": [
    "# data manipulation\n",
    "import pandas as pd\n",
    "import numpy as np\n",
    "\n",
    "# data modeling\n",
    "from sklearn.model_selection import train_test_split\n",
    "from sklearn.linear_model import LinearRegression\n",
    "\n",
    "# data visualization\n",
    "import matplotlib.pyplot as plt"
   ]
  },
  {
   "cell_type": "markdown",
   "metadata": {},
   "source": [
    "### Data ingestion\n",
    "\n",
    "Here we specify the data source, download the data and read it into a DataFrame"
   ]
  },
  {
   "cell_type": "code",
   "execution_count": 2,
   "metadata": {
    "ExecuteTime": {
     "end_time": "2020-07-15T16:29:21.242021Z",
     "start_time": "2020-07-15T16:29:19.873677Z"
    }
   },
   "outputs": [
    {
     "data": {
      "text/html": [
       "<div>\n",
       "<style scoped>\n",
       "    .dataframe tbody tr th:only-of-type {\n",
       "        vertical-align: middle;\n",
       "    }\n",
       "\n",
       "    .dataframe tbody tr th {\n",
       "        vertical-align: top;\n",
       "    }\n",
       "\n",
       "    .dataframe thead th {\n",
       "        text-align: right;\n",
       "    }\n",
       "</style>\n",
       "<table border=\"1\" class=\"dataframe\">\n",
       "  <thead>\n",
       "    <tr style=\"text-align: right;\">\n",
       "      <th></th>\n",
       "      <th>vendorID</th>\n",
       "      <th>passengerCount</th>\n",
       "      <th>tripDistance</th>\n",
       "      <th>hour_of_day</th>\n",
       "      <th>day_of_week</th>\n",
       "      <th>day_of_month</th>\n",
       "      <th>month_num</th>\n",
       "      <th>normalizeHolidayName</th>\n",
       "      <th>isPaidTimeOff</th>\n",
       "      <th>snowDepth</th>\n",
       "      <th>precipTime</th>\n",
       "      <th>precipDepth</th>\n",
       "      <th>temperature</th>\n",
       "      <th>totalAmount</th>\n",
       "    </tr>\n",
       "  </thead>\n",
       "  <tbody>\n",
       "    <tr>\n",
       "      <th>0</th>\n",
       "      <td>1</td>\n",
       "      <td>1</td>\n",
       "      <td>9.40</td>\n",
       "      <td>15</td>\n",
       "      <td>2</td>\n",
       "      <td>27</td>\n",
       "      <td>1</td>\n",
       "      <td>None</td>\n",
       "      <td>False</td>\n",
       "      <td>29.058824</td>\n",
       "      <td>24.0</td>\n",
       "      <td>3.0</td>\n",
       "      <td>6.185714</td>\n",
       "      <td>44.30</td>\n",
       "    </tr>\n",
       "    <tr>\n",
       "      <th>1</th>\n",
       "      <td>2</td>\n",
       "      <td>5</td>\n",
       "      <td>14.75</td>\n",
       "      <td>13</td>\n",
       "      <td>4</td>\n",
       "      <td>15</td>\n",
       "      <td>1</td>\n",
       "      <td>None</td>\n",
       "      <td>False</td>\n",
       "      <td>0.000000</td>\n",
       "      <td>6.0</td>\n",
       "      <td>0.0</td>\n",
       "      <td>4.571930</td>\n",
       "      <td>44.80</td>\n",
       "    </tr>\n",
       "    <tr>\n",
       "      <th>2</th>\n",
       "      <td>2</td>\n",
       "      <td>1</td>\n",
       "      <td>3.35</td>\n",
       "      <td>23</td>\n",
       "      <td>4</td>\n",
       "      <td>8</td>\n",
       "      <td>1</td>\n",
       "      <td>None</td>\n",
       "      <td>False</td>\n",
       "      <td>0.000000</td>\n",
       "      <td>1.0</td>\n",
       "      <td>0.0</td>\n",
       "      <td>4.384091</td>\n",
       "      <td>18.96</td>\n",
       "    </tr>\n",
       "    <tr>\n",
       "      <th>3</th>\n",
       "      <td>2</td>\n",
       "      <td>1</td>\n",
       "      <td>3.33</td>\n",
       "      <td>18</td>\n",
       "      <td>2</td>\n",
       "      <td>27</td>\n",
       "      <td>1</td>\n",
       "      <td>None</td>\n",
       "      <td>False</td>\n",
       "      <td>29.058824</td>\n",
       "      <td>24.0</td>\n",
       "      <td>3.0</td>\n",
       "      <td>6.185714</td>\n",
       "      <td>16.30</td>\n",
       "    </tr>\n",
       "    <tr>\n",
       "      <th>4</th>\n",
       "      <td>2</td>\n",
       "      <td>1</td>\n",
       "      <td>0.47</td>\n",
       "      <td>17</td>\n",
       "      <td>6</td>\n",
       "      <td>3</td>\n",
       "      <td>1</td>\n",
       "      <td>None</td>\n",
       "      <td>False</td>\n",
       "      <td>0.000000</td>\n",
       "      <td>1.0</td>\n",
       "      <td>0.0</td>\n",
       "      <td>3.846429</td>\n",
       "      <td>5.30</td>\n",
       "    </tr>\n",
       "  </tbody>\n",
       "</table>\n",
       "</div>"
      ],
      "text/plain": [
       "   vendorID  passengerCount  tripDistance  hour_of_day  day_of_week  \\\n",
       "0         1               1          9.40           15            2   \n",
       "1         2               5         14.75           13            4   \n",
       "2         2               1          3.35           23            4   \n",
       "3         2               1          3.33           18            2   \n",
       "4         2               1          0.47           17            6   \n",
       "\n",
       "   day_of_month  month_num normalizeHolidayName  isPaidTimeOff  snowDepth  \\\n",
       "0            27          1                 None          False  29.058824   \n",
       "1            15          1                 None          False   0.000000   \n",
       "2             8          1                 None          False   0.000000   \n",
       "3            27          1                 None          False  29.058824   \n",
       "4             3          1                 None          False   0.000000   \n",
       "\n",
       "   precipTime  precipDepth  temperature  totalAmount  \n",
       "0        24.0          3.0     6.185714        44.30  \n",
       "1         6.0          0.0     4.571930        44.80  \n",
       "2         1.0          0.0     4.384091        18.96  \n",
       "3        24.0          3.0     6.185714        16.30  \n",
       "4         1.0          0.0     3.846429         5.30  "
      ]
     },
     "execution_count": 2,
     "metadata": {},
     "output_type": "execute_result"
    }
   ],
   "source": [
    "url = 'https://introtomlsampledata.blob.core.windows.net/data/nyc-taxi/nyc-taxi-sample-data.csv'\n",
    "raw_df = pd.read_csv(url)\n",
    "raw_df.head()"
   ]
  },
  {
   "cell_type": "markdown",
   "metadata": {},
   "source": [
    "### Data cleaning\n",
    "\n",
    "Once we have read in the data we need to identify any non-numeric columns. In this case, we can simply drop them as we're just demonstrating the pipeline."
   ]
  },
  {
   "cell_type": "code",
   "execution_count": 3,
   "metadata": {
    "ExecuteTime": {
     "end_time": "2020-07-15T16:29:21.266957Z",
     "start_time": "2020-07-15T16:29:21.248006Z"
    },
    "tags": []
   },
   "outputs": [
    {
     "name": "stdout",
     "output_type": "stream",
     "text": [
      "['normalizeHolidayName']\n"
     ]
    }
   ],
   "source": [
    "non_numeric_cols = [k for k,v in raw_df.dtypes.iteritems() if v not in ['int64','float64','bool']]\n",
    "print(non_numeric_cols)\n",
    "df = raw_df.drop(columns=non_numeric_cols)"
   ]
  },
  {
   "cell_type": "markdown",
   "metadata": {},
   "source": [
    "### Data preparation\n",
    "\n",
    "We split the data into a training set and a test set and identify the target and feature columns"
   ]
  },
  {
   "cell_type": "code",
   "execution_count": 4,
   "metadata": {
    "ExecuteTime": {
     "end_time": "2020-07-15T16:29:21.305854Z",
     "start_time": "2020-07-15T16:29:21.270946Z"
    },
    "tags": []
   },
   "outputs": [
    {
     "name": "stdout",
     "output_type": "stream",
     "text": [
      "(8213, 13) (3521, 13)\n"
     ]
    }
   ],
   "source": [
    "train_df, test_df = train_test_split(df, train_size=0.7, random_state=42)\n",
    "print(train_df.shape, test_df.shape)\n",
    "\n",
    "y_col = 'totalAmount'\n",
    "X_cols = df.drop(columns=y_col).columns.to_list()\n",
    "\n",
    "train_X, train_y = train_df[X_cols], train_df[[y_col]]\n",
    "test_X, test_y = test_df[X_cols], test_df[[y_col]]"
   ]
  },
  {
   "cell_type": "markdown",
   "metadata": {},
   "source": [
    "### Train model\n",
    "\n",
    "Instantiate the model class and fit a model to the data"
   ]
  },
  {
   "cell_type": "code",
   "execution_count": 5,
   "metadata": {
    "ExecuteTime": {
     "end_time": "2020-07-15T16:29:21.435505Z",
     "start_time": "2020-07-15T16:29:21.310839Z"
    }
   },
   "outputs": [
    {
     "data": {
      "text/plain": [
       "LinearRegression()"
      ]
     },
     "execution_count": 5,
     "metadata": {},
     "output_type": "execute_result"
    }
   ],
   "source": [
    "model = LinearRegression()\n",
    "model.fit(train_X, train_y)"
   ]
  },
  {
   "cell_type": "markdown",
   "metadata": {},
   "source": [
    "### Score / evaluate model\n",
    "\n",
    "Predict values for the test set and compare against the real values"
   ]
  },
  {
   "cell_type": "code",
   "execution_count": 6,
   "metadata": {
    "ExecuteTime": {
     "end_time": "2020-07-15T16:29:21.458445Z",
     "start_time": "2020-07-15T16:29:21.439494Z"
    }
   },
   "outputs": [],
   "source": [
    "pred_y = model.predict(test_X)"
   ]
  },
  {
   "cell_type": "code",
   "execution_count": 7,
   "metadata": {
    "ExecuteTime": {
     "end_time": "2020-07-15T16:29:21.525266Z",
     "start_time": "2020-07-15T16:29:21.462433Z"
    }
   },
   "outputs": [
    {
     "data": {
      "text/plain": [
       "totalAmount    3.652176\n",
       "dtype: float64"
      ]
     },
     "execution_count": 7,
     "metadata": {},
     "output_type": "execute_result"
    }
   ],
   "source": [
    "# root mean squared error\n",
    "((pred_y-test_y)**2).mean()**0.5"
   ]
  },
  {
   "cell_type": "code",
   "execution_count": 8,
   "metadata": {
    "ExecuteTime": {
     "end_time": "2020-07-15T16:29:21.563164Z",
     "start_time": "2020-07-15T16:29:21.530253Z"
    }
   },
   "outputs": [
    {
     "data": {
      "text/plain": [
       "totalAmount    0.873455\n",
       "dtype: float64"
      ]
     },
     "execution_count": 8,
     "metadata": {},
     "output_type": "execute_result"
    }
   ],
   "source": [
    "# coefficient of determination (r-squared)\n",
    "(\n",
    "    (\n",
    "        (test_y-test_y.mean()) * (pred_y-pred_y.mean())\n",
    "    ).sum() / (\n",
    "        len(test_y) * test_y.std() * pred_y.std()\n",
    "    )\n",
    ") ** 2"
   ]
  },
  {
   "cell_type": "code",
   "execution_count": 9,
   "metadata": {
    "ExecuteTime": {
     "end_time": "2020-07-15T16:29:21.942151Z",
     "start_time": "2020-07-15T16:29:21.569150Z"
    }
   },
   "outputs": [
    {
     "data": {
      "text/plain": [
       "<matplotlib.collections.PathCollection at 0x1acceda5be0>"
      ]
     },
     "execution_count": 9,
     "metadata": {},
     "output_type": "execute_result"
    },
    {
     "data": {
      "image/png": "[encoded data removed]",
      "text/plain": [
       "<Figure size 432x288 with 1 Axes>"
      ]
     },
     "metadata": {
      "needs_background": "light"
     },
     "output_type": "display_data"
    }
   ],
   "source": [
    "# predicted vs true chart\n",
    "plt.scatter(test_y, pred_y, color='blue', linewidth=3)"
   ]
  },
  {
   "cell_type": "code",
   "execution_count": 10,
   "metadata": {
    "ExecuteTime": {
     "end_time": "2020-07-15T16:29:22.257309Z",
     "start_time": "2020-07-15T16:29:21.945144Z"
    },
    "scrolled": true,
    "tags": []
   },
   "outputs": [
    {
     "data": {
      "image/png": "[encoded data removed]",
      "text/plain": [
       "<Figure size 432x288 with 1 Axes>"
      ]
     },
     "metadata": {
      "needs_background": "light"
     },
     "output_type": "display_data"
    }
   ],
   "source": [
    "fig, ax = plt.subplots()\n",
    "\n",
    "# plot the significance of each of the features\n",
    "ax.barh(y=train_X.columns, width=model.coef_[0])\n",
    "\n",
    "# add data labels\n",
    "for rect in ax.patches:\n",
    "    xpos = rect.get_width()                                     # horizontal position of the label\n",
    "    ypos = rect.get_y() + rect.get_height()/2                   # vertical position of the label\n",
    "    label = f'{xpos:0.2f}' if abs(xpos)>0.02 else ''            # only label larger coefficients to avoid clutter\n",
    "    hpos = 15 if xpos > 0 else -15                              # label to the right if > 0, left if < 0\n",
    "    ax.annotate(\n",
    "        label, xy=(xpos,ypos), xytext=(hpos,-5),\n",
    "        textcoords='offset points', ha='center', va='bottom'\n",
    "    )\n",
    "\n",
    "# scale up the axes by 15% to accommodate the labels\n",
    "lim = np.array(ax.get_xlim())\n",
    "mid = lim.mean()\n",
    "new_lim = (lim - mid) * 1.15 + mid\n",
    "ax.set_xlim(tuple(new_lim))\n",
    "\n",
    "plt.show()"
   ]
  }
 ],
 "metadata": {
  "kernelspec": {
   "display_name": "base",
   "language": "python",
   "name": "base"
  },
  "language_info": {
   "codemirror_mode": {
    "name": "ipython",
    "version": 3
   },
   "file_extension": ".py",
   "mimetype": "text/x-python",
   "name": "python",
   "nbconvert_exporter": "python",
   "pygments_lexer": "ipython3",
   "version": "3.7.3"
  }
 },
 "nbformat": 4,
 "nbformat_minor": 2
}
